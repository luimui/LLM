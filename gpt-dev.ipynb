{
  "nbformat": 4,
  "nbformat_minor": 0,
  "metadata": {
    "colab": {
      "provenance": [],
      "authorship_tag": "ABX9TyO1s7twE0Qn3/sby01R33ZS",
      "include_colab_link": true
    },
    "kernelspec": {
      "name": "python3",
      "display_name": "Python 3"
    },
    "language_info": {
      "name": "python"
    }
  },
  "cells": [
    {
      "cell_type": "markdown",
      "metadata": {
        "id": "view-in-github",
        "colab_type": "text"
      },
      "source": [
        "<a href=\"https://colab.research.google.com/github/luimui/LLM/blob/main/gpt-dev.ipynb\" target=\"_parent\"><img src=\"https://colab.research.google.com/assets/colab-badge.svg\" alt=\"Open In Colab\"/></a>"
      ]
    },
    {
      "cell_type": "code",
      "execution_count": 6,
      "metadata": {
        "id": "FzTF1mf5Kox4",
        "colab": {
          "base_uri": "https://localhost:8080/"
        },
        "outputId": "6af199f0-11c6-4643-f87d-84fea1607b44"
      },
      "outputs": [
        {
          "output_type": "stream",
          "name": "stdout",
          "text": [
            "Drive already mounted at /content/gdrive; to attempt to forcibly remount, call drive.mount(\"/content/gdrive\", force_remount=True).\n"
          ]
        }
      ],
      "source": [
        "from google.colab import drive\n",
        "drive.mount('/content/gdrive')"
      ]
    },
    {
      "cell_type": "code",
      "source": [
        "with open('/content/gdrive/MyDrive/Colab Notebooks/input.txt','r',encoding='utf-8') as f:\n",
        "  text = f.read()"
      ],
      "metadata": {
        "id": "n7buXP7nL233"
      },
      "execution_count": 7,
      "outputs": []
    },
    {
      "cell_type": "code",
      "source": [
        "print(\"length of data in char: \", len(text))"
      ],
      "metadata": {
        "colab": {
          "base_uri": "https://localhost:8080/"
        },
        "id": "CSmhTOY5MTFV",
        "outputId": "c2f7fde6-e8fa-4870-a103-d8c257fda7a8"
      },
      "execution_count": 8,
      "outputs": [
        {
          "output_type": "stream",
          "name": "stdout",
          "text": [
            "length of data in char:  1115394\n"
          ]
        }
      ]
    },
    {
      "cell_type": "code",
      "source": [
        "print(text[:1000])"
      ],
      "metadata": {
        "colab": {
          "base_uri": "https://localhost:8080/"
        },
        "id": "Y5KjYc1BMazM",
        "outputId": "5cafbcf2-5f5a-4bd8-d42b-1a7d2585409b"
      },
      "execution_count": 9,
      "outputs": [
        {
          "output_type": "stream",
          "name": "stdout",
          "text": [
            "First Citizen:\n",
            "Before we proceed any further, hear me speak.\n",
            "\n",
            "All:\n",
            "Speak, speak.\n",
            "\n",
            "First Citizen:\n",
            "You are all resolved rather to die than to famish?\n",
            "\n",
            "All:\n",
            "Resolved. resolved.\n",
            "\n",
            "First Citizen:\n",
            "First, you know Caius Marcius is chief enemy to the people.\n",
            "\n",
            "All:\n",
            "We know't, we know't.\n",
            "\n",
            "First Citizen:\n",
            "Let us kill him, and we'll have corn at our own price.\n",
            "Is't a verdict?\n",
            "\n",
            "All:\n",
            "No more talking on't; let it be done: away, away!\n",
            "\n",
            "Second Citizen:\n",
            "One word, good citizens.\n",
            "\n",
            "First Citizen:\n",
            "We are accounted poor citizens, the patricians good.\n",
            "What authority surfeits on would relieve us: if they\n",
            "would yield us but the superfluity, while it were\n",
            "wholesome, we might guess they relieved us humanely;\n",
            "but they think we are too dear: the leanness that\n",
            "afflicts us, the object of our misery, is as an\n",
            "inventory to particularise their abundance; our\n",
            "sufferance is a gain to them Let us revenge this with\n",
            "our pikes, ere we become rakes: for the gods know I\n",
            "speak this in hunger for bread, not in thirst for revenge.\n",
            "\n",
            "\n"
          ]
        }
      ]
    },
    {
      "cell_type": "code",
      "source": [
        "#unique characters in text\n",
        "chars = sorted(list(set(text)))\n",
        "vocab_size = len(chars)\n",
        "print(''.join(chars))\n",
        "print(vocab_size)"
      ],
      "metadata": {
        "colab": {
          "base_uri": "https://localhost:8080/"
        },
        "id": "sn96i0TmMp0U",
        "outputId": "bb5b307f-04a4-498e-a723-660112c25611"
      },
      "execution_count": 10,
      "outputs": [
        {
          "output_type": "stream",
          "name": "stdout",
          "text": [
            "\n",
            " !$&',-.3:;?ABCDEFGHIJKLMNOPQRSTUVWXYZabcdefghijklmnopqrstuvwxyz\n",
            "65\n"
          ]
        }
      ]
    },
    {
      "cell_type": "code",
      "source": [
        "#tokenize (chars to numbers)\n",
        "stoi = {ch:i for i,ch in enumerate(chars)}\n",
        "itos = {i:ch for i,ch in enumerate(chars)}\n",
        "encode = lambda s: [stoi[c] for c in s] #take string and create list from index in stoi set\n",
        "decode = lambda l: ''.join([itos[i]for i in l]) #take list of numbers and join chars from itos set to string\n",
        "\n",
        "print(encode('Hallo du'))\n",
        "print(decode(encode('Hallo du')))"
      ],
      "metadata": {
        "id": "FX7WZssoOW2b",
        "outputId": "6e8a6c52-5428-46d8-fa6b-44b35e7291ed",
        "colab": {
          "base_uri": "https://localhost:8080/"
        }
      },
      "execution_count": 11,
      "outputs": [
        {
          "output_type": "stream",
          "name": "stdout",
          "text": [
            "[20, 39, 50, 50, 53, 1, 42, 59]\n",
            "Hallo du\n"
          ]
        }
      ]
    },
    {
      "cell_type": "code",
      "source": [
        "#encode text, save to troch.Tensor\n",
        "import torch\n",
        "data = torch.tensor(encode(text), dtype=torch.long)\n",
        "print(data.shape, data.dtype)\n",
        "print(data[:100])\n"
      ],
      "metadata": {
        "id": "CM39-IfYPsBT",
        "outputId": "0dcdc048-2340-4fc3-c63e-2f64aeb81105",
        "colab": {
          "base_uri": "https://localhost:8080/"
        }
      },
      "execution_count": 12,
      "outputs": [
        {
          "output_type": "stream",
          "name": "stdout",
          "text": [
            "torch.Size([1115394]) torch.int64\n",
            "tensor([18, 47, 56, 57, 58,  1, 15, 47, 58, 47, 64, 43, 52, 10,  0, 14, 43, 44,\n",
            "        53, 56, 43,  1, 61, 43,  1, 54, 56, 53, 41, 43, 43, 42,  1, 39, 52, 63,\n",
            "         1, 44, 59, 56, 58, 46, 43, 56,  6,  1, 46, 43, 39, 56,  1, 51, 43,  1,\n",
            "        57, 54, 43, 39, 49,  8,  0,  0, 13, 50, 50, 10,  0, 31, 54, 43, 39, 49,\n",
            "         6,  1, 57, 54, 43, 39, 49,  8,  0,  0, 18, 47, 56, 57, 58,  1, 15, 47,\n",
            "        58, 47, 64, 43, 52, 10,  0, 37, 53, 59])\n"
          ]
        }
      ]
    },
    {
      "cell_type": "code",
      "source": [
        "#train and validation set\n",
        "n = int(0.9*len(data))\n",
        "train_data = data[:n]\n",
        "val_data = data[n:]"
      ],
      "metadata": {
        "id": "iv_X8qm-RAeA"
      },
      "execution_count": 13,
      "outputs": []
    },
    {
      "cell_type": "code",
      "source": [
        "block_size = 8\n",
        "train_data[:block_size+1]"
      ],
      "metadata": {
        "id": "OMhJrRphRxmZ",
        "outputId": "a3ab452a-0471-46cc-8a2a-b2f8d73d1dcd",
        "colab": {
          "base_uri": "https://localhost:8080/"
        }
      },
      "execution_count": 14,
      "outputs": [
        {
          "output_type": "execute_result",
          "data": {
            "text/plain": [
              "tensor([18, 47, 56, 57, 58,  1, 15, 47, 58])"
            ]
          },
          "metadata": {},
          "execution_count": 14
        }
      ]
    },
    {
      "cell_type": "code",
      "source": [
        "x = train_data[:block_size]\n",
        "y = train_data[1:block_size+1]\n",
        "for t in range(block_size):\n",
        "  context = x[:t+1]\n",
        "  target = y[t]\n",
        "  print(f\"when input is {context} the target is: {target}\")"
      ],
      "metadata": {
        "id": "8Idu8j-SR3L_",
        "outputId": "116aeed1-8113-4fd8-f50e-daf82df3a2ca",
        "colab": {
          "base_uri": "https://localhost:8080/"
        }
      },
      "execution_count": 15,
      "outputs": [
        {
          "output_type": "stream",
          "name": "stdout",
          "text": [
            "when input is tensor([18]) the target is: 47\n",
            "when input is tensor([18, 47]) the target is: 56\n",
            "when input is tensor([18, 47, 56]) the target is: 57\n",
            "when input is tensor([18, 47, 56, 57]) the target is: 58\n",
            "when input is tensor([18, 47, 56, 57, 58]) the target is: 1\n",
            "when input is tensor([18, 47, 56, 57, 58,  1]) the target is: 15\n",
            "when input is tensor([18, 47, 56, 57, 58,  1, 15]) the target is: 47\n",
            "when input is tensor([18, 47, 56, 57, 58,  1, 15, 47]) the target is: 58\n"
          ]
        }
      ]
    },
    {
      "cell_type": "code",
      "source": [
        "# create random selected 8 char list (context) and their respective 8 char set offset by one (targets)\n",
        "# 4 pieces each (batch_size)\n",
        "torch.manual_seed(1337)\n",
        "batch_size = 4 # no fo independendent sequences processed parallel\n",
        "block_size = 8 # max length of context for prediction\n",
        "\n",
        "def get_batch(split):\n",
        "  data = train_data if split =='train' else val_data\n",
        "  ix = torch.randint(len(data) - block_size, (batch_size,))\n",
        "  x = torch.stack([data[i:i+block_size] for i in ix])\n",
        "  y = torch.stack([data[i+1:i+block_size+1] for i in ix])\n",
        "  return x,y\n",
        "\n",
        "xb,yb = get_batch('train')\n",
        "print('inputs:')\n",
        "print(xb.shape)\n",
        "print(xb)\n",
        "print('targets:')\n",
        "print(yb.shape)\n",
        "print(yb)\n",
        "\n",
        "print('--------------------------------------')\n",
        "\n",
        "for b in range (batch_size):\n",
        "  for t in range(block_size):\n",
        "    context = xb[b, :t+1]\n",
        "    target = yb[b,t]\n",
        "    print(f\"when input is {context} the target is: {target}\")"
      ],
      "metadata": {
        "id": "5VdD602-S0H3",
        "outputId": "a5b05d52-136a-4891-ee6c-ea7c83cd5ae0",
        "colab": {
          "base_uri": "https://localhost:8080/"
        }
      },
      "execution_count": 18,
      "outputs": [
        {
          "output_type": "stream",
          "name": "stdout",
          "text": [
            "inputs:\n",
            "torch.Size([4, 8])\n",
            "tensor([[24, 43, 58,  5, 57,  1, 46, 43],\n",
            "        [44, 53, 56,  1, 58, 46, 39, 58],\n",
            "        [52, 58,  1, 58, 46, 39, 58,  1],\n",
            "        [25, 17, 27, 10,  0, 21,  1, 54]])\n",
            "targets:\n",
            "torch.Size([4, 8])\n",
            "tensor([[43, 58,  5, 57,  1, 46, 43, 39],\n",
            "        [53, 56,  1, 58, 46, 39, 58,  1],\n",
            "        [58,  1, 58, 46, 39, 58,  1, 46],\n",
            "        [17, 27, 10,  0, 21,  1, 54, 39]])\n",
            "--------------------------------------\n",
            "when input is tensor([24]) the target is: 43\n",
            "when input is tensor([24, 43]) the target is: 58\n",
            "when input is tensor([24, 43, 58]) the target is: 5\n",
            "when input is tensor([24, 43, 58,  5]) the target is: 57\n",
            "when input is tensor([24, 43, 58,  5, 57]) the target is: 1\n",
            "when input is tensor([24, 43, 58,  5, 57,  1]) the target is: 46\n",
            "when input is tensor([24, 43, 58,  5, 57,  1, 46]) the target is: 43\n",
            "when input is tensor([24, 43, 58,  5, 57,  1, 46, 43]) the target is: 39\n",
            "when input is tensor([44]) the target is: 53\n",
            "when input is tensor([44, 53]) the target is: 56\n",
            "when input is tensor([44, 53, 56]) the target is: 1\n",
            "when input is tensor([44, 53, 56,  1]) the target is: 58\n",
            "when input is tensor([44, 53, 56,  1, 58]) the target is: 46\n",
            "when input is tensor([44, 53, 56,  1, 58, 46]) the target is: 39\n",
            "when input is tensor([44, 53, 56,  1, 58, 46, 39]) the target is: 58\n",
            "when input is tensor([44, 53, 56,  1, 58, 46, 39, 58]) the target is: 1\n",
            "when input is tensor([52]) the target is: 58\n",
            "when input is tensor([52, 58]) the target is: 1\n",
            "when input is tensor([52, 58,  1]) the target is: 58\n",
            "when input is tensor([52, 58,  1, 58]) the target is: 46\n",
            "when input is tensor([52, 58,  1, 58, 46]) the target is: 39\n",
            "when input is tensor([52, 58,  1, 58, 46, 39]) the target is: 58\n",
            "when input is tensor([52, 58,  1, 58, 46, 39, 58]) the target is: 1\n",
            "when input is tensor([52, 58,  1, 58, 46, 39, 58,  1]) the target is: 46\n",
            "when input is tensor([25]) the target is: 17\n",
            "when input is tensor([25, 17]) the target is: 27\n",
            "when input is tensor([25, 17, 27]) the target is: 10\n",
            "when input is tensor([25, 17, 27, 10]) the target is: 0\n",
            "when input is tensor([25, 17, 27, 10,  0]) the target is: 21\n",
            "when input is tensor([25, 17, 27, 10,  0, 21]) the target is: 1\n",
            "when input is tensor([25, 17, 27, 10,  0, 21,  1]) the target is: 54\n",
            "when input is tensor([25, 17, 27, 10,  0, 21,  1, 54]) the target is: 39\n"
          ]
        }
      ]
    },
    {
      "cell_type": "code",
      "source": [
        "print(f\"input: \\n {xb}\")"
      ],
      "metadata": {
        "id": "jsgXho2UaKeB",
        "colab": {
          "base_uri": "https://localhost:8080/"
        },
        "outputId": "bada4c54-9c5a-4a41-93ec-6e9e8bebf951"
      },
      "execution_count": 22,
      "outputs": [
        {
          "output_type": "stream",
          "name": "stdout",
          "text": [
            "input: \n",
            " tensor([[24, 43, 58,  5, 57,  1, 46, 43],\n",
            "        [44, 53, 56,  1, 58, 46, 39, 58],\n",
            "        [52, 58,  1, 58, 46, 39, 58,  1],\n",
            "        [25, 17, 27, 10,  0, 21,  1, 54]])\n"
          ]
        }
      ]
    },
    {
      "cell_type": "code",
      "source": [
        "#Bigramm Language Model\n",
        "import torch\n",
        "import torch.nn as nn\n",
        "from torch.nn import functional as F\n",
        "torch.manual_seed(1337)\n",
        "\n",
        "class BigramLanguageModel(nn.Module):\n",
        "\n",
        "  def __init__(self, vocab_size):\n",
        "    super().__init__()\n",
        "    #each token directly reads off the logits for the next token from a lookup table\n",
        "    self.token_embedding_table = nn.Embedding(vocab_size, vocab_size)\n",
        "\n",
        "  def forward(self, idx, targets):\n",
        "\n",
        "    #idx and targets are bot (B,T) tensor of integers\n",
        "    logits = self.token_embedding_table(idx) #(Batch,Time,Channel)\n",
        "\n",
        "    B,T,C = logits.shape\n",
        "    logits = logits.view(B*T,C)\n",
        "    targets = targets.view(B*T)\n",
        "    loss2 = F.cross_entropy(logits, targets)\n",
        "\n",
        "    return logits, loss2\n",
        "\n",
        "  def generate(self, idx, max_new_tokens):\n",
        "    #\n",
        "\n",
        "\n",
        "n = BigramLanguageModel(vocab_size)\n",
        "logits, loss = n(xb,yb)\n",
        "print(logits.shape)\n",
        "print(loss)"
      ],
      "metadata": {
        "colab": {
          "base_uri": "https://localhost:8080/"
        },
        "id": "V5hgW5KE74FL",
        "outputId": "e5b4dc65-eeb9-498f-c33c-148392ec91fa"
      },
      "execution_count": 30,
      "outputs": [
        {
          "output_type": "stream",
          "name": "stdout",
          "text": [
            "torch.Size([32, 65])\n",
            "tensor(4.8786, grad_fn=<NllLossBackward0>)\n"
          ]
        }
      ]
    },
    {
      "cell_type": "code",
      "source": [],
      "metadata": {
        "id": "wm1ISw2Q9rZw"
      },
      "execution_count": null,
      "outputs": []
    }
  ]
}