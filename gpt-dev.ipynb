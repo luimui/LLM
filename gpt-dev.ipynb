{
  "nbformat": 4,
  "nbformat_minor": 0,
  "metadata": {
    "colab": {
      "provenance": [],
      "authorship_tag": "ABX9TyOoCwukJD1DPAnZeUbcJhBB",
      "include_colab_link": true
    },
    "kernelspec": {
      "name": "python3",
      "display_name": "Python 3"
    },
    "language_info": {
      "name": "python"
    }
  },
  "cells": [
    {
      "cell_type": "markdown",
      "metadata": {
        "id": "view-in-github",
        "colab_type": "text"
      },
      "source": [
        "<a href=\"https://colab.research.google.com/github/luimui/LLM/blob/main/gpt-dev.ipynb\" target=\"_parent\"><img src=\"https://colab.research.google.com/assets/colab-badge.svg\" alt=\"Open In Colab\"/></a>"
      ]
    },
    {
      "cell_type": "code",
      "execution_count": 14,
      "metadata": {
        "id": "FzTF1mf5Kox4",
        "colab": {
          "base_uri": "https://localhost:8080/"
        },
        "outputId": "5ab16c9f-e3b2-4983-85f2-5d3de229e032"
      },
      "outputs": [
        {
          "output_type": "stream",
          "name": "stdout",
          "text": [
            "Drive already mounted at /content/gdrive; to attempt to forcibly remount, call drive.mount(\"/content/gdrive\", force_remount=True).\n"
          ]
        }
      ],
      "source": [
        "from google.colab import drive\n",
        "drive.mount('/content/gdrive')"
      ]
    },
    {
      "cell_type": "code",
      "source": [
        "with open('/content/gdrive/MyDrive/Colab Notebooks/input.txt','r',encoding='utf-8') as f:\n",
        "  text = f.read()"
      ],
      "metadata": {
        "id": "n7buXP7nL233"
      },
      "execution_count": 15,
      "outputs": []
    },
    {
      "cell_type": "code",
      "source": [
        "print(\"length of data in char: \", len(text))"
      ],
      "metadata": {
        "colab": {
          "base_uri": "https://localhost:8080/"
        },
        "id": "CSmhTOY5MTFV",
        "outputId": "09092a37-294b-4448-c963-c7b075901fcd"
      },
      "execution_count": 16,
      "outputs": [
        {
          "output_type": "stream",
          "name": "stdout",
          "text": [
            "length of data in char:  1115394\n"
          ]
        }
      ]
    },
    {
      "cell_type": "code",
      "source": [
        "print(text[:1000])"
      ],
      "metadata": {
        "colab": {
          "base_uri": "https://localhost:8080/"
        },
        "id": "Y5KjYc1BMazM",
        "outputId": "a62350b8-4ca5-49af-f2b6-b1bf83abe411"
      },
      "execution_count": 17,
      "outputs": [
        {
          "output_type": "stream",
          "name": "stdout",
          "text": [
            "First Citizen:\n",
            "Before we proceed any further, hear me speak.\n",
            "\n",
            "All:\n",
            "Speak, speak.\n",
            "\n",
            "First Citizen:\n",
            "You are all resolved rather to die than to famish?\n",
            "\n",
            "All:\n",
            "Resolved. resolved.\n",
            "\n",
            "First Citizen:\n",
            "First, you know Caius Marcius is chief enemy to the people.\n",
            "\n",
            "All:\n",
            "We know't, we know't.\n",
            "\n",
            "First Citizen:\n",
            "Let us kill him, and we'll have corn at our own price.\n",
            "Is't a verdict?\n",
            "\n",
            "All:\n",
            "No more talking on't; let it be done: away, away!\n",
            "\n",
            "Second Citizen:\n",
            "One word, good citizens.\n",
            "\n",
            "First Citizen:\n",
            "We are accounted poor citizens, the patricians good.\n",
            "What authority surfeits on would relieve us: if they\n",
            "would yield us but the superfluity, while it were\n",
            "wholesome, we might guess they relieved us humanely;\n",
            "but they think we are too dear: the leanness that\n",
            "afflicts us, the object of our misery, is as an\n",
            "inventory to particularise their abundance; our\n",
            "sufferance is a gain to them Let us revenge this with\n",
            "our pikes, ere we become rakes: for the gods know I\n",
            "speak this in hunger for bread, not in thirst for revenge.\n",
            "\n",
            "\n"
          ]
        }
      ]
    },
    {
      "cell_type": "code",
      "source": [
        "#unique characters in text\n",
        "chars = sorted(list(set(text)))\n",
        "vocab_size = len(chars)\n",
        "print(''.join(chars))\n",
        "print(vocab_size)"
      ],
      "metadata": {
        "colab": {
          "base_uri": "https://localhost:8080/"
        },
        "id": "sn96i0TmMp0U",
        "outputId": "29fab1de-7690-4f5c-a81e-dd30cbade33d"
      },
      "execution_count": 18,
      "outputs": [
        {
          "output_type": "stream",
          "name": "stdout",
          "text": [
            "\n",
            " !$&',-.3:;?ABCDEFGHIJKLMNOPQRSTUVWXYZabcdefghijklmnopqrstuvwxyz\n",
            "65\n"
          ]
        }
      ]
    },
    {
      "cell_type": "code",
      "source": [
        "#tokenize (chars to numbers)\n",
        "stoi = {ch:i for i,ch in enumerate(chars)}\n",
        "itos = {i:ch for i,ch in enumerate(chars)}\n",
        "encode = lambda s: [stoi[c] for c in s] #take string and create list from index in stoi set\n",
        "decode = lambda l: ''.join([itos[i]for i in l]) #take list of numbers and join chars from itos set to string\n",
        "\n",
        "print(encode('Hallo du'))\n",
        "print(decode(encode('Hallo du')))"
      ],
      "metadata": {
        "id": "FX7WZssoOW2b",
        "outputId": "09e062e9-3fe5-4cea-d4aa-49f80f3acc76",
        "colab": {
          "base_uri": "https://localhost:8080/"
        }
      },
      "execution_count": 19,
      "outputs": [
        {
          "output_type": "stream",
          "name": "stdout",
          "text": [
            "[20, 39, 50, 50, 53, 1, 42, 59]\n",
            "Hallo du\n"
          ]
        }
      ]
    },
    {
      "cell_type": "code",
      "source": [
        "#encode text, save to troch.Tensor\n",
        "import torch\n",
        "data = torch.tensor(encode(text), dtype=torch.long)\n",
        "print(data.shape, data.dtype)\n",
        "print(data[:100])\n"
      ],
      "metadata": {
        "id": "CM39-IfYPsBT",
        "outputId": "31e2d2c9-e655-4b0b-8303-833bbc500c1d",
        "colab": {
          "base_uri": "https://localhost:8080/"
        }
      },
      "execution_count": 20,
      "outputs": [
        {
          "output_type": "stream",
          "name": "stdout",
          "text": [
            "torch.Size([1115394]) torch.int64\n",
            "tensor([18, 47, 56, 57, 58,  1, 15, 47, 58, 47, 64, 43, 52, 10,  0, 14, 43, 44,\n",
            "        53, 56, 43,  1, 61, 43,  1, 54, 56, 53, 41, 43, 43, 42,  1, 39, 52, 63,\n",
            "         1, 44, 59, 56, 58, 46, 43, 56,  6,  1, 46, 43, 39, 56,  1, 51, 43,  1,\n",
            "        57, 54, 43, 39, 49,  8,  0,  0, 13, 50, 50, 10,  0, 31, 54, 43, 39, 49,\n",
            "         6,  1, 57, 54, 43, 39, 49,  8,  0,  0, 18, 47, 56, 57, 58,  1, 15, 47,\n",
            "        58, 47, 64, 43, 52, 10,  0, 37, 53, 59])\n"
          ]
        }
      ]
    },
    {
      "cell_type": "code",
      "source": [
        "#train and validation set\n",
        "n = int(0.9*len(data))\n",
        "train_data = data[:n]\n",
        "val_data = data[n:]"
      ],
      "metadata": {
        "id": "iv_X8qm-RAeA"
      },
      "execution_count": 21,
      "outputs": []
    },
    {
      "cell_type": "code",
      "source": [
        "block_size = 8\n",
        "train_data[:block_size+1]"
      ],
      "metadata": {
        "id": "OMhJrRphRxmZ",
        "outputId": "a5cf7b14-be24-4b03-8e78-31ed01d9375f",
        "colab": {
          "base_uri": "https://localhost:8080/"
        }
      },
      "execution_count": 22,
      "outputs": [
        {
          "output_type": "execute_result",
          "data": {
            "text/plain": [
              "tensor([18, 47, 56, 57, 58,  1, 15, 47, 58])"
            ]
          },
          "metadata": {},
          "execution_count": 22
        }
      ]
    },
    {
      "cell_type": "code",
      "source": [
        "x = train_data[:block_size]\n",
        "y = train_data[1:block_size+1]\n",
        "for t in range(block_size):\n",
        "  context = x[:t+1]\n",
        "  target = y[t]\n",
        "  print(f\"when input is {context} the target is: {target}\")"
      ],
      "metadata": {
        "id": "8Idu8j-SR3L_",
        "outputId": "7f3c2156-5f65-4c46-d0a3-62ded653aa6e",
        "colab": {
          "base_uri": "https://localhost:8080/"
        }
      },
      "execution_count": 23,
      "outputs": [
        {
          "output_type": "stream",
          "name": "stdout",
          "text": [
            "when input is tensor([18]) the target is: 47\n",
            "when input is tensor([18, 47]) the target is: 56\n",
            "when input is tensor([18, 47, 56]) the target is: 57\n",
            "when input is tensor([18, 47, 56, 57]) the target is: 58\n",
            "when input is tensor([18, 47, 56, 57, 58]) the target is: 1\n",
            "when input is tensor([18, 47, 56, 57, 58,  1]) the target is: 15\n",
            "when input is tensor([18, 47, 56, 57, 58,  1, 15]) the target is: 47\n",
            "when input is tensor([18, 47, 56, 57, 58,  1, 15, 47]) the target is: 58\n"
          ]
        }
      ]
    },
    {
      "cell_type": "code",
      "source": [
        "# create random selected 8 char list (context) and their respective 8 char set offset by one (targets)\n",
        "# 4 pieces each (batch_size)\n",
        "torch.manual_seed(1337)\n",
        "batch_size = 4 # no fo independendent sequences processed parallel\n",
        "block_size = 8 # max length of context for prediction\n",
        "\n",
        "def get_batch(split):\n",
        "  data = train_data if split =='train' else val_data\n",
        "  ix = torch.randint(len(data) - block_size, (batch_size,))\n",
        "  x = torch.stack([data[i:i+block_size] for i in ix])\n",
        "  y = torch.stack([data[i+1:i+block_size+1] for i in ix])\n",
        "  return x,y\n",
        "\n",
        "xb,yb = get_batch('train')\n",
        "print('inputs:')\n",
        "print(xb.shape)\n",
        "print(xb)\n",
        "print('targets:')\n",
        "print(yb.shape)\n",
        "print(yb)\n",
        "\n",
        "print('--------------------------------------')\n",
        "\n",
        "for b in range (batch_size):\n",
        "  for t in range(block_size):\n",
        "    context = xb[b, :t+1]\n",
        "    target = yb[b,t]\n",
        "    print(f\"when input is {context} the target is: {target}\")"
      ],
      "metadata": {
        "id": "5VdD602-S0H3",
        "outputId": "a12ad49e-eac1-4db8-cb11-e50cea727c54",
        "colab": {
          "base_uri": "https://localhost:8080/"
        }
      },
      "execution_count": 24,
      "outputs": [
        {
          "output_type": "stream",
          "name": "stdout",
          "text": [
            "inputs:\n",
            "torch.Size([4, 8])\n",
            "tensor([[24, 43, 58,  5, 57,  1, 46, 43],\n",
            "        [44, 53, 56,  1, 58, 46, 39, 58],\n",
            "        [52, 58,  1, 58, 46, 39, 58,  1],\n",
            "        [25, 17, 27, 10,  0, 21,  1, 54]])\n",
            "targets:\n",
            "torch.Size([4, 8])\n",
            "tensor([[43, 58,  5, 57,  1, 46, 43, 39],\n",
            "        [53, 56,  1, 58, 46, 39, 58,  1],\n",
            "        [58,  1, 58, 46, 39, 58,  1, 46],\n",
            "        [17, 27, 10,  0, 21,  1, 54, 39]])\n",
            "--------------------------------------\n",
            "when input is tensor([24]) the target is: 43\n",
            "when input is tensor([24, 43]) the target is: 58\n",
            "when input is tensor([24, 43, 58]) the target is: 5\n",
            "when input is tensor([24, 43, 58,  5]) the target is: 57\n",
            "when input is tensor([24, 43, 58,  5, 57]) the target is: 1\n",
            "when input is tensor([24, 43, 58,  5, 57,  1]) the target is: 46\n",
            "when input is tensor([24, 43, 58,  5, 57,  1, 46]) the target is: 43\n",
            "when input is tensor([24, 43, 58,  5, 57,  1, 46, 43]) the target is: 39\n",
            "when input is tensor([44]) the target is: 53\n",
            "when input is tensor([44, 53]) the target is: 56\n",
            "when input is tensor([44, 53, 56]) the target is: 1\n",
            "when input is tensor([44, 53, 56,  1]) the target is: 58\n",
            "when input is tensor([44, 53, 56,  1, 58]) the target is: 46\n",
            "when input is tensor([44, 53, 56,  1, 58, 46]) the target is: 39\n",
            "when input is tensor([44, 53, 56,  1, 58, 46, 39]) the target is: 58\n",
            "when input is tensor([44, 53, 56,  1, 58, 46, 39, 58]) the target is: 1\n",
            "when input is tensor([52]) the target is: 58\n",
            "when input is tensor([52, 58]) the target is: 1\n",
            "when input is tensor([52, 58,  1]) the target is: 58\n",
            "when input is tensor([52, 58,  1, 58]) the target is: 46\n",
            "when input is tensor([52, 58,  1, 58, 46]) the target is: 39\n",
            "when input is tensor([52, 58,  1, 58, 46, 39]) the target is: 58\n",
            "when input is tensor([52, 58,  1, 58, 46, 39, 58]) the target is: 1\n",
            "when input is tensor([52, 58,  1, 58, 46, 39, 58,  1]) the target is: 46\n",
            "when input is tensor([25]) the target is: 17\n",
            "when input is tensor([25, 17]) the target is: 27\n",
            "when input is tensor([25, 17, 27]) the target is: 10\n",
            "when input is tensor([25, 17, 27, 10]) the target is: 0\n",
            "when input is tensor([25, 17, 27, 10,  0]) the target is: 21\n",
            "when input is tensor([25, 17, 27, 10,  0, 21]) the target is: 1\n",
            "when input is tensor([25, 17, 27, 10,  0, 21,  1]) the target is: 54\n",
            "when input is tensor([25, 17, 27, 10,  0, 21,  1, 54]) the target is: 39\n"
          ]
        }
      ]
    },
    {
      "cell_type": "code",
      "source": [
        "print(f\"input: \\n {xb}\")"
      ],
      "metadata": {
        "id": "jsgXho2UaKeB",
        "colab": {
          "base_uri": "https://localhost:8080/"
        },
        "outputId": "2184577c-74e4-4339-ecc0-b005f98acc2d"
      },
      "execution_count": 25,
      "outputs": [
        {
          "output_type": "stream",
          "name": "stdout",
          "text": [
            "input: \n",
            " tensor([[24, 43, 58,  5, 57,  1, 46, 43],\n",
            "        [44, 53, 56,  1, 58, 46, 39, 58],\n",
            "        [52, 58,  1, 58, 46, 39, 58,  1],\n",
            "        [25, 17, 27, 10,  0, 21,  1, 54]])\n"
          ]
        }
      ]
    },
    {
      "cell_type": "code",
      "source": [
        "#Bigramm Language Model\n",
        "import torch\n",
        "import torch.nn as nn\n",
        "from torch.nn import functional as F\n",
        "torch.manual_seed(1337)\n",
        "\n",
        "class BigramLanguageModel(nn.Module):\n",
        "\n",
        "  def __init__(self, vocab_size):\n",
        "    super().__init__()\n",
        "    #each token directly reads off the logits for the next token from a lookup table\n",
        "    self.token_embedding_table = nn.Embedding(vocab_size, vocab_size)\n",
        "\n",
        "  def forward(self, idx, targets=None):\n",
        "\n",
        "    #idx and targets are bot (B,T) tensor of integers\n",
        "    logits = self.token_embedding_table(idx) #(Batch,Time,Channel)\n",
        "\n",
        "    if targets is None:\n",
        "      loss = None\n",
        "    else:\n",
        "      B,T,C = logits.shape\n",
        "      logits = logits.view(B*T,C)\n",
        "      targets = targets.view(B*T)\n",
        "      loss = F.cross_entropy(logits, targets)\n",
        "\n",
        "    return logits, loss\n",
        "\n",
        "  def generate(self, idx, max_new_tokens):\n",
        "    #idx is (Batch, Time) array of indices in the current context\n",
        "    for _ in range(max_new_tokens):\n",
        "      #get the predictions\n",
        "      logits, loss = self(idx)\n",
        "      #only last time stamp\n",
        "      logits = logits[:,-1,:] #becomse (Batch, Channel)\n",
        "      #apply softmax to get the probabilities\n",
        "      probs = F.softmax(logits, dim=1) #(Bacth, Channel)\n",
        "      #sample from the distribution\n",
        "      idx_next = torch.multinomial(probs, num_samples=1) # (Batch,1)\n",
        "      #append sampled index to the running sequence\n",
        "      idx = torch.cat((idx, idx_next), dim=1) #(Batch, Time+1)\n",
        "      print(f\"max_new_tokens: {max_new_tokens}, iteration: {_}, idx: {idx}\")\n",
        "    return idx\n",
        "\n",
        "\n",
        "m = BigramLanguageModel(vocab_size)\n",
        "logits, loss = m(xb,yb)\n",
        "print(logits.shape)\n",
        "print(loss)\n",
        "print(logits)\n",
        "\n",
        "\n",
        "print(decode(m.generate(idx = torch.zeros((1,1), dtype=torch.long), max_new_tokens=100)[0].tolist()))"
      ],
      "metadata": {
        "colab": {
          "base_uri": "https://localhost:8080/"
        },
        "id": "V5hgW5KE74FL",
        "outputId": "772b2b84-25bb-4324-a365-81222ca3d6d7"
      },
      "execution_count": 32,
      "outputs": [
        {
          "output_type": "stream",
          "name": "stdout",
          "text": [
            "torch.Size([32, 65])\n",
            "tensor(4.8786, grad_fn=<NllLossBackward0>)\n",
            "tensor([[-1.5101, -0.0948,  1.0927,  ..., -0.6126, -0.6597,  0.7624],\n",
            "        [ 0.3323, -0.0872, -0.7470,  ..., -0.6716, -0.9572, -0.9594],\n",
            "        [ 0.2475, -0.6349, -1.2909,  ...,  1.3064, -0.2256, -1.8305],\n",
            "        ...,\n",
            "        [-2.1910, -0.7574,  1.9656,  ..., -0.3580,  0.8585, -0.6161],\n",
            "        [ 0.5978, -0.0514, -0.0646,  ..., -1.4649, -2.0555,  1.8275],\n",
            "        [-0.6787,  0.8662, -1.6433,  ...,  2.3671, -0.7775, -0.2586]],\n",
            "       grad_fn=<ViewBackward0>)\n",
            "max_new_tokens: 100, iteration: 0, idx: tensor([[ 0, 31]])\n",
            "\n",
            "S\n"
          ]
        }
      ]
    },
    {
      "cell_type": "code",
      "source": [],
      "metadata": {
        "id": "wm1ISw2Q9rZw"
      },
      "execution_count": 26,
      "outputs": []
    }
  ]
}